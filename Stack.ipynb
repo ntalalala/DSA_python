{
 "cells": [
  {
   "cell_type": "markdown",
   "metadata": {},
   "source": [
    "Parenthesis Checker\n",
    "\n",
    "https://www.geeksforgeeks.org/problems/parenthesis-checker2744/1?page=1&category=Stack&difficulty=School,Basic,Easy&sortBy=submissions\n",
    "\n"
   ]
  },
  {
   "cell_type": "code",
   "execution_count": null,
   "metadata": {},
   "outputs": [],
   "source": [
    "class Solution:\n",
    "    \n",
    "    #Function to check if brackets are balanced or not.\n",
    "    def ispar(self,x):\n",
    "        # code here\n",
    "        stack = []\n",
    "        for i in range(len(x)):\n",
    "            if x[i] == '[' or x[i] == '{' or x[i] == '(':\n",
    "                stack.append(x[i])\n",
    "            elif x[i] == ']':\n",
    "                if len(stack) == 0:\n",
    "                    return False\n",
    "                else:\n",
    "                    k = stack.pop()\n",
    "                    if k != '[':\n",
    "                        return False\n",
    "            elif x[i] == '}':\n",
    "                if len(stack) == 0:\n",
    "                    return False\n",
    "                else:\n",
    "                    k = stack.pop()\n",
    "                    if k != '{':\n",
    "                        return False\n",
    "            elif x[i] == ')':\n",
    "                if len(stack) == 0:\n",
    "                    return False\n",
    "                else:\n",
    "                    k = stack.pop()\n",
    "                    if k != '(':\n",
    "                        return False\n",
    "                    \n",
    "        if len(stack) != 0:\n",
    "            return False\n",
    "        return True\n"
   ]
  },
  {
   "cell_type": "markdown",
   "metadata": {},
   "source": [
    "Implement stack using array\n",
    "\n",
    "https://www.geeksforgeeks.org/problems/implement-stack-using-array/1?page=1&category=Stack&difficulty=School,Basic,Easy&sortBy=submissions\n"
   ]
  },
  {
   "cell_type": "code",
   "execution_count": null,
   "metadata": {},
   "outputs": [],
   "source": [
    "class MyStack:\n",
    "    \n",
    "    def __init__(self):\n",
    "        self.arr=[]\n",
    "    \n",
    "    #Function to push an integer into the stack.\n",
    "    def push(self,data):\n",
    "        #add code here\n",
    "        self.arr.append(data)\n",
    "    \n",
    "    #Function to remove an item from top of the stack.\n",
    "    def pop(self):\n",
    "        #add code here\n",
    "        if len(self.arr) == 0:\n",
    "            return -1\n",
    "        return self.arr.pop()\n",
    "   "
   ]
  },
  {
   "cell_type": "markdown",
   "metadata": {},
   "source": [
    "Implement two stacks in an array\n",
    "\n",
    "https://www.geeksforgeeks.org/problems/implement-two-stacks-in-an-array/1?page=1&category=Stack&difficulty=School,Basic,Easy&sortBy=submissions"
   ]
  },
  {
   "cell_type": "code",
   "execution_count": null,
   "metadata": {},
   "outputs": [],
   "source": [
    "class TwoStacks:\n",
    "    def __init__(self, n = 100):\n",
    "        self.n = n\n",
    "        self.arr = [0]*n\n",
    "        self.i = 0\n",
    "        self.j = n // 2\n",
    "\n",
    "    # Function to push an integer into stack 1\n",
    "    def push1(self, x):\n",
    "        self.arr[self.i] = x\n",
    "        self.i += 1\n",
    "\n",
    "    # Function to push an integer into stack 2\n",
    "    def push2(self, x):\n",
    "        self.arr[self.j] = x\n",
    "        self.j += 1\n",
    "\n",
    "    # Function to remove an element from top of stack 1\n",
    "    def pop1(self):\n",
    "        if self.i <= 0:\n",
    "            return -1\n",
    "        k = self.arr[self.i - 1]\n",
    "        self.i -= 1\n",
    "        return k\n",
    "\n",
    "    # Function to remove an element from top of stack 2\n",
    "    def pop2(self):\n",
    "        if self.j <= self.n//2:\n",
    "            return -1\n",
    "        k = self.arr[self.j - 1]\n",
    "        self.j -= 1\n",
    "        return k"
   ]
  },
  {
   "cell_type": "markdown",
   "metadata": {},
   "source": [
    "Reverse a string using Stack\n",
    "\n",
    "https://www.geeksforgeeks.org/problems/reverse-a-string-using-stack/1?page=1&category=Stack&difficulty=School,Basic,Easy&sortBy=submissions"
   ]
  },
  {
   "cell_type": "code",
   "execution_count": null,
   "metadata": {},
   "outputs": [],
   "source": [
    "def reverse(S):\n",
    "    stack = []\n",
    "    s = \"\"\n",
    "    for i in range(len(S)):\n",
    "        stack.append(S[i])\n",
    "    while len(stack) != 0:\n",
    "        s += stack.pop()\n",
    "    return s\n",
    "    "
   ]
  },
  {
   "cell_type": "markdown",
   "metadata": {},
   "source": [
    "Special Stack\n",
    "\n",
    "https://www.geeksforgeeks.org/problems/special-stack/1?page=1&category=Stack&difficulty=School,Basic,Easy&sortBy=submissions"
   ]
  },
  {
   "cell_type": "code",
   "execution_count": null,
   "metadata": {},
   "outputs": [],
   "source": [
    "def push(arr, ele):\n",
    "    # Code here\n",
    "    arr.append(ele)\n",
    "\n",
    "# Function should pop an element from stack\n",
    "def pop(arr):\n",
    "    # Code here\n",
    "    if len(arr) == 0:\n",
    "        return -1\n",
    "    return arr.pop()\n",
    "\n",
    "# function should return 1/0 or True/False\n",
    "def isFull(n, arr):\n",
    "    # Code here\n",
    "    if n == len(arr):\n",
    "        return 1\n",
    "    return 0\n",
    "\n",
    "# function should return 1/0 or True/False\n",
    "def isEmpty(arr):\n",
    "    #Code here\n",
    "    if len(arr) == 0:\n",
    "        return 1\n",
    "    return 0\n",
    "\n",
    "# function should return minimum element from the stack\n",
    "def getMin(n, arr):\n",
    "    # Code here\n",
    "    return min(arr)\n"
   ]
  },
  {
   "cell_type": "markdown",
   "metadata": {},
   "source": [
    "Reversing the equation\n",
    "\n",
    "https://www.geeksforgeeks.org/problems/reversing-the-equation2205/1?page=1&category=Stack&difficulty=School,Basic,Easy&sortBy=submissions"
   ]
  },
  {
   "cell_type": "code",
   "execution_count": null,
   "metadata": {},
   "outputs": [],
   "source": [
    "class Solution:\n",
    "    def reverseEqn(self, s):\n",
    "        # code here\n",
    "        st = []\n",
    "        so = \"\"\n",
    "        for i in range(len(s)):\n",
    "            if s[i].isnumeric():\n",
    "                so += s[i]\n",
    "            else:\n",
    "                st.append(so)\n",
    "                st.append(s[i])\n",
    "                so = \"\"\n",
    "        if so != \"\":\n",
    "            st.append(so)\n",
    "        res = \"\"\n",
    "        while(len(st) != 0):\n",
    "            res += st.pop()\n",
    "        return res"
   ]
  },
  {
   "cell_type": "markdown",
   "metadata": {},
   "source": [
    "Stack designer\n",
    "\n",
    "https://www.geeksforgeeks.org/problems/stack-designer/1?page=2&category=Stack&difficulty=School,Basic,Easy&sortBy=submissions\n"
   ]
  },
  {
   "cell_type": "code",
   "execution_count": null,
   "metadata": {},
   "outputs": [],
   "source": [
    "def _push(arr):\n",
    "    #return a stack with all elements of arr inserted in it\n",
    "    st = []\n",
    "    for i in range(len(arr)):\n",
    "        st.append(arr[i])\n",
    "    return st\n",
    "    \n",
    "\n",
    "#_pop function to print elements of the stack remove as well\n",
    "def _pop(st):\n",
    "    #print top and pop for each element until it becomes empty\n",
    "    while(len(st) != 0):\n",
    "        print(st.pop(), end = \" \")\n",
    "\n"
   ]
  },
  {
   "cell_type": "markdown",
   "metadata": {},
   "source": [
    "Insert an Element at the Bottom of a Stack\n",
    "\n",
    "https://www.geeksforgeeks.org/problems/insert-an-element-at-the-bottom-of-a-stack/1?page=2&category=Stack&difficulty=School,Basic,Easy&sortBy=submissions"
   ]
  },
  {
   "cell_type": "code",
   "execution_count": null,
   "metadata": {},
   "outputs": [],
   "source": [
    "def insertAtBottom(self,st,x):\n",
    "        # code here\n",
    "        st.insert(0, x)\n",
    "        return st\n"
   ]
  }
 ],
 "metadata": {
  "language_info": {
   "name": "python"
  }
 },
 "nbformat": 4,
 "nbformat_minor": 2
}
