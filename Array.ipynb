{
 "cells": [
  {
   "cell_type": "markdown",
   "metadata": {},
   "source": [
    "26. Remove Duplicates from Sorted Array\n",
    "\n",
    "https://leetcode.com/problems/remove-duplicates-from-sorted-array/description/\n",
    "\n",
    "Idea: Use 1 for loop to check all the element in array and on every index use 1 inner while loop to remove the duplicate one"
   ]
  },
  {
   "cell_type": "code",
   "execution_count": null,
   "metadata": {},
   "outputs": [],
   "source": [
    "class Solution(object):\n",
    "    def removeDuplicates(self, nums):\n",
    "        \"\"\"\n",
    "        :type nums: List[int]\n",
    "        :rtype: int\n",
    "        \"\"\"\n",
    "        for i in range(len(nums)):\n",
    "            while ( i < len(nums) - 1 and nums[i + 1] == nums[i]):\n",
    "                nums.pop(i + 1)\n",
    "        return len(nums)\n",
    "        "
   ]
  },
  {
   "cell_type": "markdown",
   "metadata": {},
   "source": [
    "27. Remove Element\n",
    "\n",
    "https://leetcode.com/problems/remove-element/description/\n",
    "\n",
    "Same idea with Exercise 26"
   ]
  },
  {
   "cell_type": "code",
   "execution_count": null,
   "metadata": {},
   "outputs": [],
   "source": [
    "class Solution(object):\n",
    "    def removeElement(self, nums, val):\n",
    "        \"\"\"\n",
    "        :type nums: List[int]\n",
    "        :type val: int\n",
    "        :rtype: int\n",
    "        \"\"\"\n",
    "        for i in range(len(nums)):\n",
    "            while (i < len(nums) and nums[i] == val):\n",
    "                nums.pop(i)\n",
    "        return len(nums)\n",
    "        "
   ]
  },
  {
   "cell_type": "markdown",
   "metadata": {},
   "source": [
    "28. Find the Index of the First Occurrence in a String\n",
    "\n",
    "https://leetcode.com/problems/find-the-index-of-the-first-occurrence-in-a-string/description/\n",
    "\n",
    "Idea: use slicing of string to check duplicate substring "
   ]
  },
  {
   "cell_type": "code",
   "execution_count": null,
   "metadata": {},
   "outputs": [],
   "source": [
    "class Solution(object):\n",
    "    def strStr(self, haystack, needle):\n",
    "        \"\"\"\n",
    "        :type haystack: str\n",
    "        :type needle: str\n",
    "        :rtype: int\n",
    "        \"\"\"\n",
    "        if len(needle) > len(haystack):\n",
    "            return -1\n",
    "        for i in range(len(haystack) - len(needle) + 1):\n",
    "            if (haystack[i] == needle[0]):\n",
    "                if (haystack[i : i + len(needle)] == needle):\n",
    "                    return i\n",
    "        return -1\n",
    "        "
   ]
  },
  {
   "cell_type": "markdown",
   "metadata": {},
   "source": [
    "35. Search Insert Position\n",
    "\n",
    "https://leetcode.com/problems/search-insert-position/description/\n",
    "\n",
    "Idea: Using binary search to find the first element that >= target in array nums and use pos to save the index. If target in nums then pos is the result. Otherwise the possition of target in nums is pos + 1"
   ]
  },
  {
   "cell_type": "code",
   "execution_count": null,
   "metadata": {},
   "outputs": [],
   "source": [
    "class Solution(object):\n",
    "    def searchInsert(self, nums, target):\n",
    "        \"\"\"\n",
    "        :type nums: List[int]\n",
    "        :type target: int\n",
    "        :rtype: int\n",
    "        \"\"\"\n",
    "        l = 0\n",
    "        r = len(nums) - 1\n",
    "        pos = -1\n",
    "        while (l <= r):\n",
    "            mid = (l + r)//2\n",
    "            if nums[mid] <= target:\n",
    "                l = mid + 1\n",
    "                pos = mid\n",
    "            else:\n",
    "                r = mid - 1\n",
    "        if nums[pos] == target:\n",
    "            return pos\n",
    "        else: \n",
    "            return pos + 1\n",
    "        "
   ]
  },
  {
   "cell_type": "markdown",
   "metadata": {},
   "source": [
    "88. Merge Sorted Array\n",
    "\n",
    "https://leetcode.com/problems/merge-sorted-array/description/"
   ]
  },
  {
   "cell_type": "code",
   "execution_count": null,
   "metadata": {},
   "outputs": [],
   "source": [
    "class Solution(object):\n",
    "    def merge(self, nums1, m, nums2, n):\n",
    "        \"\"\"\n",
    "        :type nums1: List[int]\n",
    "        :type m: int\n",
    "        :type nums2: List[int]\n",
    "        :type n: int\n",
    "        :rtype: None Do not return anything, modify nums1 in-place instead.\n",
    "        \"\"\"\n",
    "        i = m - 1  #index in nums1\n",
    "        j = n - 1  #index in nums2\n",
    "        index = m + n - 1\n",
    "        while (j >= 0):\n",
    "            if ( i >= 0 and nums1[i] > nums2[j]):\n",
    "                nums1[index] = nums1[i]\n",
    "                i -= 1\n",
    "                index -= 1\n",
    "            else:\n",
    "                nums1[index] = nums2[j]\n",
    "                j -= 1\n",
    "                index -= 1"
   ]
  },
  {
   "cell_type": "markdown",
   "metadata": {},
   "source": [
    "118. Pascal's Triangle\n",
    "\n",
    "https://leetcode.com/problems/pascals-triangle/description/\n"
   ]
  },
  {
   "cell_type": "code",
   "execution_count": null,
   "metadata": {},
   "outputs": [],
   "source": [
    "class Solution(object):\n",
    "    def generate(self, numRows):\n",
    "        \"\"\"\n",
    "        :type numRows: int\n",
    "        :rtype: List[List[int]]\n",
    "        \"\"\"\n",
    "        if numRows == 1:\n",
    "            return [[1]]\n",
    "        res = [[1], [1, 1]]\n",
    "        for i in range(2, numRows):\n",
    "            tmp = [1]\n",
    "            for j in range(len(res[-1]) - 1):\n",
    "                tmp.append(res[-1][j] + res[-1][j + 1])\n",
    "            tmp.append(1)\n",
    "            print(tmp)\n",
    "            res.append(tmp)\n",
    "        return res\n",
    "\n",
    "        "
   ]
  },
  {
   "cell_type": "markdown",
   "metadata": {},
   "source": [
    "125. Valid Palindrome\n",
    "\n",
    "https://leetcode.com/problems/valid-palindrome/description/\n"
   ]
  },
  {
   "cell_type": "code",
   "execution_count": null,
   "metadata": {},
   "outputs": [],
   "source": [
    "class Solution(object):\n",
    "    def isPalindrome(self, s):\n",
    "        \"\"\"\n",
    "        :type s: str\n",
    "        :rtype: bool\n",
    "        \"\"\"\n",
    "        s = s.lower()\n",
    "        s = ''.join(k for k in s if k.isalnum()) \n",
    "        print(s)\n",
    "        for i in range(len(s)//2):\n",
    "            if (s[i] != s[len(s) - i - 1]):\n",
    "                return False\n",
    "        return True\n",
    "        "
   ]
  },
  {
   "cell_type": "markdown",
   "metadata": {},
   "source": [
    "136. Single Number\n",
    "\n",
    "https://leetcode.com/problems/single-number/description/"
   ]
  },
  {
   "cell_type": "code",
   "execution_count": null,
   "metadata": {},
   "outputs": [],
   "source": [
    "class Solution(object):\n",
    "    def singleNumber(self, nums):\n",
    "        \"\"\"\n",
    "        :type nums: List[int]\n",
    "        :rtype: int\n",
    "        \"\"\"\n",
    "        nums.sort()\n",
    "        for i in range(0, len(nums), 2):\n",
    "            if i == len(nums) - 1:\n",
    "                return nums[i]\n",
    "            elif (nums[i] != nums[i + 1]):\n",
    "                return nums[i]\n"
   ]
  },
  {
   "cell_type": "markdown",
   "metadata": {},
   "source": [
    "202. Happy Number\n",
    "\n",
    "https://leetcode.com/problems/happy-number/description/\n",
    "\n",
    "Idea: Happy number is the number has the sum of the squares of its digits = 1 or = 7"
   ]
  },
  {
   "cell_type": "code",
   "execution_count": null,
   "metadata": {},
   "outputs": [],
   "source": [
    "class Solution(object):\n",
    "    def isHappy(self, n):\n",
    "        \"\"\"\n",
    "        :type n: int\n",
    "        :rtype: bool\n",
    "        \"\"\"\n",
    "        while (n >= 10):\n",
    "            ans = 0\n",
    "            while (n != 0):\n",
    "                ans += (n % 10)**2\n",
    "                n = n // 10\n",
    "            n = ans\n",
    "            print(n)\n",
    "        if n == 1 or n == 7:\n",
    "            return True\n",
    "        else: \n",
    "            return False"
   ]
  },
  {
   "cell_type": "markdown",
   "metadata": {},
   "source": [
    "367. Valid Perfect Square\n",
    "\n",
    "https://leetcode.com/problems/valid-perfect-square/description/"
   ]
  },
  {
   "cell_type": "code",
   "execution_count": null,
   "metadata": {},
   "outputs": [],
   "source": [
    "class Solution(object):\n",
    "    def isPerfectSquare(self, num):\n",
    "        \"\"\"\n",
    "        :type num: int\n",
    "        :rtype: bool\n",
    "        \"\"\"\n",
    "        start = 1\n",
    "        tmp = 1\n",
    "        while (tmp < num):\n",
    "            tmp = start **2\n",
    "            start += 1\n",
    "        if tmp == num:\n",
    "            return True\n",
    "        else:\n",
    "            return False\n",
    "        \n",
    "        "
   ]
  },
  {
   "cell_type": "markdown",
   "metadata": {},
   "source": [
    "392. Is Subsequence\n",
    "\n",
    "https://leetcode.com/problems/is-subsequence/description/"
   ]
  },
  {
   "cell_type": "code",
   "execution_count": null,
   "metadata": {},
   "outputs": [],
   "source": [
    "class Solution(object):\n",
    "    def isSubsequence(self, s, t):\n",
    "        \"\"\"\n",
    "        :type s: str\n",
    "        :type t: str\n",
    "        :rtype: bool\n",
    "        \"\"\"\n",
    "        if (len(s) == 0):\n",
    "            return True\n",
    "            \n",
    "        start = 0\n",
    "        for i in range(len(t)):\n",
    "            if t[i] == s[start]:\n",
    "                start += 1\n",
    "            if start == len(s):\n",
    "                return True\n",
    "        return False\n",
    "        "
   ]
  },
  {
   "cell_type": "markdown",
   "metadata": {},
   "source": [
    "504. Base 7\n",
    "\n",
    "https://leetcode.com/problems/base-7/description/\n"
   ]
  },
  {
   "cell_type": "code",
   "execution_count": null,
   "metadata": {},
   "outputs": [],
   "source": [
    "class Solution(object):\n",
    "    def convertToBase7(self, num):\n",
    "        \"\"\"\n",
    "        :type num: int\n",
    "        :rtype: str\n",
    "        \"\"\"\n",
    "        if num == 0:\n",
    "            return \"0\"\n",
    "        ans = \"\"\n",
    "        dau = ''\n",
    "        if num < 0:\n",
    "            num = -num\n",
    "            dau = \"-\"\n",
    "        while (num != 0):\n",
    "            tmp = num % 7\n",
    "            ans = str(tmp) + ans\n",
    "            num = num // 7\n",
    "        return dau + ans\n",
    "            \n",
    "        "
   ]
  },
  {
   "cell_type": "markdown",
   "metadata": {},
   "source": [
    "905. Sort Array By Parity\n",
    "\n",
    "https://leetcode.com/problems/sort-array-by-parity/description/"
   ]
  },
  {
   "cell_type": "code",
   "execution_count": null,
   "metadata": {},
   "outputs": [],
   "source": [
    "class Solution(object):\n",
    "    def sortArrayByParity(self, nums):\n",
    "        \"\"\"\n",
    "        :type nums: List[int]\n",
    "        :rtype: List[int]\n",
    "        \"\"\"\n",
    "        ans = []\n",
    "        for i in range(len(nums)):\n",
    "            if (nums[i] % 2 != 0):\n",
    "                ans.append(nums[i])\n",
    "            else:\n",
    "                ans.insert(0, nums[i])\n",
    "        return ans\n",
    "        "
   ]
  },
  {
   "cell_type": "markdown",
   "metadata": {},
   "source": [
    "448. Find All Numbers Disappeared in an Array\n",
    "\n",
    "https://leetcode.com/problems/find-all-numbers-disappeared-in-an-array/description/"
   ]
  },
  {
   "cell_type": "code",
   "execution_count": null,
   "metadata": {},
   "outputs": [],
   "source": [
    "class Solution(object):\n",
    "    def findDisappearedNumbers(self, nums):\n",
    "        \"\"\"\n",
    "        :type nums: List[int]\n",
    "        :rtype: List[int]\n",
    "        \"\"\"\n",
    "        nums.sort()\n",
    "        ans = []\n",
    "        i = 0\n",
    "        tmp = 1\n",
    "        while i < len(nums):\n",
    "            if tmp < nums[i]:\n",
    "                ans.append(tmp)\n",
    "            else:\n",
    "                while(i < len(nums) - 1 and nums[i] == nums[i + 1]):\n",
    "                    i += 1\n",
    "                i += 1\n",
    "            tmp += 1\n",
    "            \n",
    "        \n",
    "        while tmp <= len(nums):\n",
    "            ans.append(tmp)\n",
    "            tmp += 1\n",
    "        return ans"
   ]
  },
  {
   "cell_type": "markdown",
   "metadata": {},
   "source": [
    "190. Reverse Bits\n",
    "\n",
    "https://leetcode.com/problems/reverse-bits/description/"
   ]
  },
  {
   "cell_type": "code",
   "execution_count": null,
   "metadata": {},
   "outputs": [],
   "source": [
    "class Solution:\n",
    "    # @param n, an integer\n",
    "    # @return an integer\n",
    "    def reverseBits(self, n):\n",
    "        k = \"\"\n",
    "        while n != 0:\n",
    "            k = str(n % 2) + k\n",
    "            n = n // 2\n",
    "        while len(k) != 32:\n",
    "            k = '0' + k\n",
    "        ans = 0\n",
    "        for i in range(len(k)):\n",
    "            if k[i] == '1':\n",
    "                ans += pow(2, i)\n",
    "        return ans\n",
    "        "
   ]
  },
  {
   "cell_type": "markdown",
   "metadata": {},
   "source": [
    "Idea: Based on quicksort"
   ]
  },
  {
   "cell_type": "code",
   "execution_count": null,
   "metadata": {},
   "outputs": [],
   "source": [
    "class Solution(object):\n",
    "    def sortArrayByParity(self, nums):\n",
    "        \"\"\"\n",
    "        :type nums: List[int]\n",
    "        :rtype: List[int]\n",
    "        \"\"\"\n",
    "        l = 0\n",
    "        r = len(nums) - 1\n",
    "        while (l < r):\n",
    "            while (l < r and nums[l] % 2 == 0):\n",
    "                l += 1\n",
    "            while (l < r and nums[r] % 2 != 0):\n",
    "                r -= 1\n",
    "            if (l < r):\n",
    "                nums[l], nums[r] = nums[r], nums[l]\n",
    "        return nums\n",
    "        "
   ]
  },
  {
   "cell_type": "markdown",
   "metadata": {},
   "source": [
    "283. Move Zeroes\n",
    "\n",
    "https://leetcode.com/problems/move-zeroes/description/\n",
    "\n",
    "Idea: Use a while loop to iterate through all the elements in the array. When the index points to the '0' element, pop the element, append it to the end of the array, and increment the counter k by 1 to avoid checking the '0' element at the end of the array."
   ]
  },
  {
   "cell_type": "code",
   "execution_count": null,
   "metadata": {},
   "outputs": [],
   "source": [
    "class Solution(object):\n",
    "    def moveZeroes(self, nums):\n",
    "        \"\"\"\n",
    "        :type nums: List[int]\n",
    "        :rtype: None Do not return anything, modify nums in-place instead.\n",
    "        \"\"\"\n",
    "        i = 0\n",
    "        k = 0\n",
    "        while i < len(nums) - k:\n",
    "            if (nums[i] == 0):\n",
    "                nums.pop(i)\n",
    "                nums.append(0)\n",
    "                i -= 1\n",
    "                k += 1\n",
    "            i += 1\n",
    "        "
   ]
  },
  {
   "cell_type": "markdown",
   "metadata": {},
   "source": [
    "812. Largest Triangle Area\n",
    "\n",
    "https://leetcode.com/problems/largest-triangle-area/description/"
   ]
  },
  {
   "cell_type": "code",
   "execution_count": null,
   "metadata": {},
   "outputs": [],
   "source": [
    "class Solution(object):\n",
    "    def largestTriangleArea(self, points):\n",
    "        \"\"\"\n",
    "        :type points: List[List[int]]\n",
    "        :rtype: float\n",
    "        \"\"\"\n",
    "        maxi = 0\n",
    "        for i in range(len(points) - 2):\n",
    "            for j in range(i, len(points) - 1):\n",
    "                for k in range(j, len(points)):\n",
    "                    x_AB = points[j][0] - points[i][0]\n",
    "                    y_AB = points[j][1] - points[i][1]\n",
    "                    x_AC = points[k][0] - points[i][0]\n",
    "                    y_AC = points[k][1] - points[i][1]\n",
    "                    area = 0.5 * abs(x_AB*y_AC - y_AB*x_AC)\n",
    "                    if maxi < area:\n",
    "                        maxi = area\n",
    "        return maxi\n",
    "                    "
   ]
  },
  {
   "cell_type": "markdown",
   "metadata": {},
   "source": [
    "941. Valid Mountain Array\n",
    "\n",
    "https://leetcode.com/problems/valid-mountain-array/description/\n"
   ]
  },
  {
   "cell_type": "code",
   "execution_count": null,
   "metadata": {},
   "outputs": [],
   "source": [
    "class Solution(object):\n",
    "    def validMountainArray(self, arr):\n",
    "        \"\"\"\n",
    "        :type arr: List[int]\n",
    "        :rtype: bool\n",
    "        \"\"\"\n",
    "        i = 0\n",
    "        while i < len(arr) - 1 and arr[i] < arr[i + 1]:\n",
    "            i += 1\n",
    "        if i == 0 or i == len(arr) - 1:\n",
    "            return False\n",
    "        while i < len(arr) - 1 and arr[i] > arr[i + 1]:\n",
    "            i += 1\n",
    "        if i != len(arr) - 1:\n",
    "            return False\n",
    "        else:\n",
    "            return True"
   ]
  }
 ],
 "metadata": {
  "language_info": {
   "name": "python"
  }
 },
 "nbformat": 4,
 "nbformat_minor": 2
}
