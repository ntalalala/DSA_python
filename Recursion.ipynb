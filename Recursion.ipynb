{
 "cells": [
  {
   "cell_type": "markdown",
   "metadata": {},
   "source": [
    "231. Power of Two\n",
    "\n",
    "https://leetcode.com/problems/power-of-two/description/"
   ]
  },
  {
   "cell_type": "code",
   "execution_count": null,
   "metadata": {},
   "outputs": [],
   "source": [
    "class Solution:\n",
    "    def isPowerOfTwo(self, n: int) -> bool:\n",
    "        if (n == 0): \n",
    "            return False\n",
    "        if (n == 1):\n",
    "            return True\n",
    "        if (n % 2 != 0):\n",
    "            return False\n",
    "        return self.isPowerOfTwo(n//2)\n",
    "        "
   ]
  },
  {
   "cell_type": "markdown",
   "metadata": {},
   "source": [
    "326. Power of Three\n",
    "\n",
    "https://leetcode.com/problems/power-of-three/description/\n"
   ]
  },
  {
   "cell_type": "code",
   "execution_count": null,
   "metadata": {},
   "outputs": [],
   "source": [
    "class Solution(object):\n",
    "    def isPowerOfThree(self, n):\n",
    "        \"\"\"\n",
    "        :type n: int\n",
    "        :rtype: bool\n",
    "        \"\"\"\n",
    "        if n == 0:\n",
    "            return False\n",
    "        if n == 1:\n",
    "            return True\n",
    "        if n % 3 != 0:\n",
    "            return False\n",
    "        return self.isPowerOfThree(n // 3)\n",
    "        \n",
    "        "
   ]
  },
  {
   "cell_type": "markdown",
   "metadata": {},
   "source": [
    "342. Power of Four\n",
    "\n",
    "https://leetcode.com/problems/power-of-four/description/"
   ]
  },
  {
   "cell_type": "code",
   "execution_count": null,
   "metadata": {},
   "outputs": [],
   "source": [
    "class Solution(object):\n",
    "    def isPowerOfFour(self, n):\n",
    "        \"\"\"\n",
    "        :type n: int\n",
    "        :rtype: bool\n",
    "        \"\"\"\n",
    "        if n == 1:\n",
    "            return True\n",
    "        if n < 4: \n",
    "            return False\n",
    "        if n % 4 != 0:\n",
    "            return False\n",
    "        return self.isPowerOfFour(n // 4)\n",
    "        "
   ]
  },
  {
   "cell_type": "markdown",
   "metadata": {},
   "source": [
    "509. Fibonacci Number\n",
    "\n",
    "https://leetcode.com/problems/fibonacci-number/description/"
   ]
  },
  {
   "cell_type": "code",
   "execution_count": null,
   "metadata": {},
   "outputs": [],
   "source": [
    "class Solution(object):\n",
    "    def fib(self, n):\n",
    "        \"\"\"\n",
    "        :type n: int\n",
    "        :rtype: int\n",
    "        \"\"\"\n",
    "        if n == 0:\n",
    "            return 0\n",
    "        if n == 1:\n",
    "            return 1\n",
    "        return self.fib(n - 1) + self.fib(n - 2)"
   ]
  },
  {
   "cell_type": "code",
   "execution_count": null,
   "metadata": {},
   "outputs": [],
   "source": [
    "class Solution(object):\n",
    "    def fib(self, n):\n",
    "        \"\"\"\n",
    "        :type n: int\n",
    "        :rtype: int\n",
    "        \"\"\"\n",
    "        if n == 0:\n",
    "            return 0\n",
    "        if n == 1:\n",
    "            return 1\n",
    "        f0 = 0\n",
    "        f1 = 1\n",
    "        res = -1\n",
    "        for i in range(2, n + 1):\n",
    "            res = f0 + f1\n",
    "            f0 = f1\n",
    "            f1 = res\n",
    "        return res"
   ]
  },
  {
   "cell_type": "markdown",
   "metadata": {},
   "source": [
    "50. Pow(x, n)\n",
    "\n",
    "https://leetcode.com/problems/powx-n/description/"
   ]
  },
  {
   "cell_type": "code",
   "execution_count": null,
   "metadata": {},
   "outputs": [],
   "source": [
    "class Solution(object):\n",
    "    def myPow(self, x, n):\n",
    "        \"\"\"\n",
    "        :type x: float\n",
    "        :type n: int\n",
    "        :rtype: float\n",
    "        \"\"\"\n",
    "        if n == 0:\n",
    "            return 1\n",
    "        if n < 0:\n",
    "            x = 1/x\n",
    "            n = -n\n",
    "        t = self.myPow(x, n // 2)\n",
    "        if n % 2 == 0:\n",
    "            return t * t\n",
    "        else:\n",
    "            return x * t * t\n",
    "        "
   ]
  },
  {
   "cell_type": "markdown",
   "metadata": {},
   "source": [
    "241. Different Ways to Add Parentheses\n",
    "\n",
    "https://leetcode.com/problems/different-ways-to-add-parentheses/description/"
   ]
  },
  {
   "cell_type": "code",
   "execution_count": null,
   "metadata": {},
   "outputs": [],
   "source": []
  },
  {
   "cell_type": "markdown",
   "metadata": {},
   "source": [
    "77. Combinations\n",
    "\n",
    "https://leetcode.com/problems/combinations/description/"
   ]
  },
  {
   "cell_type": "code",
   "execution_count": null,
   "metadata": {},
   "outputs": [],
   "source": [
    "class Solution(object):\n",
    "    def combine(self, n, k):\n",
    "        \"\"\"\n",
    "        :type n: int\n",
    "        :type k: int\n",
    "        :rtype: List[List[int]]\n",
    "        \"\"\"\n",
    "        self.res = []\n",
    "        self.x = [0] * (k + 1)\n",
    "        self.n = n\n",
    "        self.k = k\n",
    "        self.Try(1)\n",
    "        return self.res\n",
    "\n",
    "    def result(self):\n",
    "        tmp = []\n",
    "        for z in range(1, len(self.x)):\n",
    "            tmp.append(self.x[z])\n",
    "        self.res.append(tmp)\n",
    "\n",
    "    def Try(self, i):\n",
    "        for j in range(self.x[i - 1] + 1, self.n + 1):\n",
    "            self.x[i] = j\n",
    "            if i == self.k:\n",
    "                self.result()\n",
    "            else:\n",
    "                self.Try(i + 1)\n",
    "        \n",
    "        "
   ]
  },
  {
   "cell_type": "code",
   "execution_count": null,
   "metadata": {},
   "outputs": [],
   "source": [
    "class Solution(object):\n",
    "    def combine(self, n, k):\n",
    "        \"\"\"\n",
    "        :type n: int\n",
    "        :type k: int\n",
    "        :rtype: List[List[int]]\n",
    "        \"\"\"\n",
    "        self.check = True\n",
    "        self.res = []\n",
    "        self.x = [0] * (k + 1)\n",
    "        for i in range(1, k + 1):\n",
    "            self.x[i] = i\n",
    "        self.n = n\n",
    "        self.k = k\n",
    "        while self.check:\n",
    "            tmp = []\n",
    "            for z in range(1, len(self.x)):\n",
    "                tmp.append(self.x[z])\n",
    "            self.res.append(tmp)\n",
    "            self.sinh()\n",
    "        return self.res\n",
    "\n",
    "    def sinh(self):\n",
    "        i = self.k\n",
    "        while i > 0 and self.x[i] == self.n - self.k + i:\n",
    "            i -= 1\n",
    "        if i == 0:\n",
    "            self.check = False\n",
    "        else:\n",
    "            self.x[i] += 1\n",
    "            for j in range (i + 1, self.k + 1):\n",
    "                self.x[j] = self.x[j - 1] + 1\n",
    "        \n",
    "        "
   ]
  },
  {
   "cell_type": "markdown",
   "metadata": {},
   "source": [
    "46. Permutations\n",
    "\n",
    "https://leetcode.com/problems/permutations/description/"
   ]
  },
  {
   "cell_type": "code",
   "execution_count": null,
   "metadata": {},
   "outputs": [],
   "source": [
    "class Solution(object):\n",
    "    def permute(self, nums):\n",
    "        \"\"\"\n",
    "        :type nums: List[int]\n",
    "        :rtype: List[List[int]]\n",
    "        \"\"\"\n",
    "        self.n = len(nums)\n",
    "        self.check = True\n",
    "        self.x = [0] + sorted(nums)\n",
    "        self.res = []\n",
    "        while self.check:\n",
    "            tmp = []\n",
    "            for i in range(1, self.n + 1):\n",
    "                tmp.append(self.x[i])\n",
    "            self.res.append(tmp)\n",
    "            self.sinh()\n",
    "        return self.res\n",
    "\n",
    "    def sinh(self):\n",
    "        i = self.n - 1\n",
    "        while i > 0 and self.x[i] > self.x[i + 1]:\n",
    "            i -= 1\n",
    "        if i == 0:\n",
    "            self.check = False\n",
    "        else:\n",
    "            j = self.n\n",
    "            while self.x[i] > self.x[j]:\n",
    "                j -= 1\n",
    "            self.x[i], self.x[j] = self.x[j], self.x[i]\n",
    "            self.x[i + 1 ::] = sorted(self.x[i + 1 ::])\n",
    "\n",
    "\n",
    "        "
   ]
  },
  {
   "cell_type": "markdown",
   "metadata": {},
   "source": [
    "78. Subsets\n",
    "\n",
    "https://leetcode.com/problems/subsets/description/"
   ]
  },
  {
   "cell_type": "code",
   "execution_count": null,
   "metadata": {},
   "outputs": [],
   "source": [
    "class Solution(object):\n",
    "    def subsets(self, nums):\n",
    "        \"\"\"\n",
    "        :type nums: List[int]\n",
    "        :rtype: List[List[int]]\n",
    "        \"\"\"\n",
    "        self.nums = nums\n",
    "        self.res = [[]]\n",
    "        self.x = [0]*(len(nums) + 1)\n",
    "        self.n = len(nums)\n",
    "        self.k = 1\n",
    "        while (self.k <= self.n):\n",
    "            self.Try(1)\n",
    "            self.k += 1\n",
    "        return self.res\n",
    "\n",
    "    def result(self):\n",
    "        tmp = []\n",
    "        for i in range(1, self.k + 1):\n",
    "            tmp.append(self.nums[self.x[i] - 1])\n",
    "        self.res.append(tmp)\n",
    "\n",
    "    def Try(self, i):\n",
    "        for j in range(self.x[i - 1] + 1, self.n - self.k + i + 1):\n",
    "            self.x[i] = j\n",
    "            if i == self.k:\n",
    "                self.result()\n",
    "            else:\n",
    "                self.Try(i + 1)\n",
    "        "
   ]
  },
  {
   "cell_type": "markdown",
   "metadata": {},
   "source": [
    "9. Palindrome Number\n",
    "\n",
    "https://leetcode.com/problems/palindrome-number/description/\n"
   ]
  },
  {
   "cell_type": "code",
   "execution_count": null,
   "metadata": {},
   "outputs": [],
   "source": [
    "class Solution(object):\n",
    "    def isPalindrome(self, x):\n",
    "        \"\"\"\n",
    "        :type x: int\n",
    "        :rtype: bool\n",
    "        \"\"\"\n",
    "        if x < 0: \n",
    "            return False\n",
    "        elif x < 10: \n",
    "            return True\n",
    "        elif x % 10 == 0:\n",
    "            return False\n",
    "        x1 = x\n",
    "        reverse_x = 0\n",
    "        while (x1 > 0):\n",
    "            reverse_x = 10*reverse_x + x1 % 10\n",
    "            x1 = x1 // 10\n",
    "        if reverse_x == x:\n",
    "            return True\n",
    "        else:\n",
    "            return False"
   ]
  },
  {
   "cell_type": "markdown",
   "metadata": {},
   "source": [
    "2597. The Number of Beautiful Subsets\n",
    "\n",
    "https://leetcode.com/problems/the-number-of-beautiful-subsets/description/"
   ]
  },
  {
   "cell_type": "code",
   "execution_count": null,
   "metadata": {},
   "outputs": [],
   "source": []
  },
  {
   "cell_type": "markdown",
   "metadata": {},
   "source": [
    "1. Two Sum\n",
    "\n",
    "https://leetcode.com/problems/two-sum/description/"
   ]
  },
  {
   "cell_type": "code",
   "execution_count": null,
   "metadata": {},
   "outputs": [],
   "source": [
    "class Solution(object):\n",
    "    def twoSum(self, nums, target):\n",
    "        \"\"\"\n",
    "        :type nums: List[int]\n",
    "        :type target: int\n",
    "        :rtype: List[int]\n",
    "        \"\"\"\n",
    "        a = {}\n",
    "        for i in range(len(nums)):\n",
    "            tmp = target - nums[i]\n",
    "            if tmp in a:\n",
    "                return {a[tmp], i}\n",
    "            a[nums[i]] = i\n",
    "        return {}\n",
    "        "
   ]
  },
  {
   "cell_type": "markdown",
   "metadata": {},
   "source": [
    "#### BASIC/SCHOOL/EASY PROBLEMS"
   ]
  },
  {
   "cell_type": "markdown",
   "metadata": {},
   "source": [
    "Print 1 To N Without Loop\n",
    "\n",
    "https://www.geeksforgeeks.org/problems/print-1-to-n-without-using-loops-1587115620/1?page=1&category=Recursion&difficulty=School,Basic,Easy&sortBy=submissions "
   ]
  },
  {
   "cell_type": "code",
   "execution_count": null,
   "metadata": {},
   "outputs": [],
   "source": [
    "class Solution:    \n",
    "    #Complete this function\n",
    "    def printNos(self,N):\n",
    "        #Your code here\n",
    "        if N == 1:\n",
    "            print(1, end = ' ')\n",
    "        else:\n",
    "            self.printNos(N - 1)\n",
    "            print(N, end = ' ')"
   ]
  },
  {
   "cell_type": "markdown",
   "metadata": {},
   "source": [
    "Josephus problem\n",
    "\n",
    "https://www.geeksforgeeks.org/problems/josephus-problem/1?page=1&category=Recursion&difficulty=School,Basic,Easy&sortBy=submissions"
   ]
  },
  {
   "cell_type": "code",
   "execution_count": null,
   "metadata": {},
   "outputs": [],
   "source": [
    "class Solution:\n",
    "    def josephus(self,n,k):\n",
    "        #Your code here\n",
    "        a = [i for i in range(1, n + 1)]\n",
    "        i = 0\n",
    "        while True:\n",
    "            if len(a) == 1:\n",
    "                return a[0]\n",
    "            i = (i + k - 1) % len(a)\n",
    "            a.pop(i)"
   ]
  },
  {
   "cell_type": "markdown",
   "metadata": {},
   "source": [
    "Print Pattern\n",
    "\n",
    "https://www.geeksforgeeks.org/problems/print-pattern3549/1?page=1&category=Recursion&difficulty=School,Basic,Easy&sortBy=submissions"
   ]
  },
  {
   "cell_type": "code",
   "execution_count": null,
   "metadata": {},
   "outputs": [],
   "source": [
    "class Solution:\n",
    "    def pattern(self, N, a = None):\n",
    "        # code here\n",
    "        if a is None:\n",
    "            a = N\n",
    "        res = [a]\n",
    "        if a > 0:\n",
    "            return res + self.pattern(N, a - 5)\n",
    "        elif a < N:\n",
    "            return res + self.pattern(N, a + 5)\n",
    "        else:\n",
    "            return res"
   ]
  }
 ],
 "metadata": {
  "language_info": {
   "name": "python"
  }
 },
 "nbformat": 4,
 "nbformat_minor": 2
}
